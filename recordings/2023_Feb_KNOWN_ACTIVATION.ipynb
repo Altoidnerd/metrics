{
 "cells": [
  {
   "cell_type": "code",
   "execution_count": 270,
   "id": "f248b8aa-af6f-47d2-8e7a-3b3d882dd1de",
   "metadata": {},
   "outputs": [
    {
     "name": "stdout",
     "output_type": "stream",
     "text": [
      "63bdcf966e703359486c3852 7\n",
      "63b8837b955644d552edfd6c 7\n",
      "63bda2fd6e703359486c3850 27\n",
      "63bda30c6e703359486c3851 5\n",
      "63b72847955644d552edfd69 8\n"
     ]
    }
   ],
   "source": [
    "from flickplay.get_connections import get_pymysql_con, get_alchemy_con\n",
    "from flickplay.mongo import get_mongo_db_obj\n",
    "from flickplay import query\n",
    "import pandas as pd\n",
    "import numpy as np\n",
    "import matplotlib.pyplot as plt\n",
    "from flickplay.utils import make_big\n",
    "\n",
    "low_end = [\n",
    "    \"63bdcf966e703359486c3852\",\n",
    "    \"63b8837b955644d552edfd6c\",\n",
    "    \"63bda2fd6e703359486c3850\",\n",
    "    \"63bda30c6e703359486c3851\"]\n",
    "\n",
    "high_end = [\n",
    "    \"63b72847955644d552edfd69\"]\n",
    "\n",
    "db = get_mongo_db_obj()\n",
    "unlocks = pd.DataFrame.from_records(db.unlockedexperiences.find())\n",
    "unlocks['eid'] = unlocks.experience.apply(lambda x: str(x))\n",
    "\n",
    "for eid in low_end+high_end:\n",
    "    print(eid, len(unlocks[unlocks.eid==eid]))\n",
    "    \n",
    "    \n"
   ]
  },
  {
   "cell_type": "code",
   "execution_count": 271,
   "id": "2700b496-5b51-416b-b63f-b59144cf0f5c",
   "metadata": {},
   "outputs": [],
   "source": [
    "dr = pd.DataFrame.from_records(db.recordings.find())"
   ]
  },
  {
   "cell_type": "code",
   "execution_count": 272,
   "id": "2a782ecd-3bbe-42e9-9ba7-b35a4c50c37a",
   "metadata": {},
   "outputs": [
    {
     "name": "stdout",
     "output_type": "stream",
     "text": [
      "63bda2fd6e703359486c3850 10\n",
      "63b8837b955644d552edfd6c 24\n",
      "63bdcf966e703359486c3852 0\n",
      "63bda30c6e703359486c3851 1\n",
      "63b72847955644d552edfd69 7\n"
     ]
    }
   ],
   "source": [
    "exps = set(unlocks[unlocks.eid.isin(low_end+high_end)].experience)\n",
    "outof = len(dr)\n",
    "import sys\n",
    "\n",
    "recordings = { e:[] for e in exps }\n",
    "\n",
    "for idx, row in dr.iterrows():\n",
    "    for e in row.experiences:\n",
    "        if e in exps:\n",
    "            recordings[e].append(row._id)\n",
    "            \n",
    "    if idx%300 == 0:\n",
    "        sys.stdout.write(f'{idx} out of {outof}\\r')\n",
    "        \n",
    "for e,n in { e: len(v) for e,v in recordings.items() }.items():\n",
    "    print(e,n)"
   ]
  },
  {
   "cell_type": "code",
   "execution_count": 273,
   "id": "d017bfcd-7c75-4243-93d8-d4845a2490f3",
   "metadata": {},
   "outputs": [
    {
     "data": {
      "text/plain": [
       "{ObjectId('63bda2fd6e703359486c3850'): ['sahir',\n",
       "  'deleted_1673951315093_alonachala3015',\n",
       "  'marcelkuhn_bamert2842',\n",
       "  'lunch_boxlol',\n",
       "  'mackenziebanker7902',\n",
       "  'zoehoren523',\n",
       "  'sahir',\n",
       "  'twinjus',\n",
       "  'twinjus',\n",
       "  'twinjus'],\n",
       " ObjectId('63b8837b955644d552edfd6c'): ['wendy',\n",
       "  'denise',\n",
       "  'wendy',\n",
       "  'wendy',\n",
       "  'wendy',\n",
       "  'wendy',\n",
       "  'wendy',\n",
       "  'wendy',\n",
       "  'wendy',\n",
       "  'wendy',\n",
       "  'wendy',\n",
       "  'wendy',\n",
       "  'wendy',\n",
       "  'wendy',\n",
       "  'wendy',\n",
       "  'wendy',\n",
       "  'wendy',\n",
       "  'wendy',\n",
       "  'wendy',\n",
       "  'wendy',\n",
       "  'wendy',\n",
       "  'wendy',\n",
       "  'wendy',\n",
       "  'wendy'],\n",
       " ObjectId('63bdcf966e703359486c3852'): [],\n",
       " ObjectId('63bda30c6e703359486c3851'): ['loïcblaise143'],\n",
       " ObjectId('63b72847955644d552edfd69'): ['wendy',\n",
       "  'wendy',\n",
       "  'sahir',\n",
       "  'known',\n",
       "  'twinjus',\n",
       "  'twinjus',\n",
       "  'wendy']}"
      ]
     },
     "execution_count": 273,
     "metadata": {},
     "output_type": "execute_result"
    }
   ],
   "source": [
    "users = pd.DataFrame.from_records(db.users.find())\n",
    "\n",
    "users_of_recordings = {k:[] for k,v in recordings.items()}\n",
    "\n",
    "for experience_id, recording_ids_list in recordings.items():\n",
    "    for recording_id in recording_ids_list:\n",
    "        this_user_id = dr[dr._id==recording_id].user.iloc[0]\n",
    "        this_user_name = users[users._id==this_user_id].username.iloc[0]\n",
    "        users_of_recordings[experience_id].append(this_user_name)\n",
    "        \n",
    "users_of_recordings\n",
    "\n",
    "\n",
    "\n"
   ]
  },
  {
   "cell_type": "code",
   "execution_count": 274,
   "id": "7fa95883-4529-4a48-88b5-1f673a2bde2c",
   "metadata": {},
   "outputs": [],
   "source": [
    "import datetime\n",
    "from datetime import timedelta\n",
    "\n",
    "recording_dates_ord = { k:[] for k,v in recordings.items() }\n",
    "\n",
    "for experience_id, recordings_list in recordings.items():\n",
    "    for recording_id in recordings_list:\n",
    "        this_recording_date = dr[dr._id==recording_id].created.iloc[0]\n",
    "        recording_dates_ord[experience_id].append(\n",
    "            (this_recording_date - datetime.datetime(2022,12,31)).days)\n",
    "        \n",
    "        "
   ]
  },
  {
   "cell_type": "code",
   "execution_count": 275,
   "id": "dee89850-c9dc-4d1a-9e03-3f03897bcdb8",
   "metadata": {},
   "outputs": [
    {
     "data": {
      "text/plain": [
       "{ObjectId('63bda2fd6e703359486c3850'): [16,\n",
       "  16,\n",
       "  16,\n",
       "  17,\n",
       "  18,\n",
       "  18,\n",
       "  19,\n",
       "  23,\n",
       "  23,\n",
       "  23],\n",
       " ObjectId('63b8837b955644d552edfd6c'): [20,\n",
       "  23,\n",
       "  24,\n",
       "  28,\n",
       "  28,\n",
       "  28,\n",
       "  28,\n",
       "  28,\n",
       "  28,\n",
       "  28,\n",
       "  28,\n",
       "  28,\n",
       "  29,\n",
       "  29,\n",
       "  29,\n",
       "  29,\n",
       "  29,\n",
       "  29,\n",
       "  29,\n",
       "  29,\n",
       "  29,\n",
       "  29,\n",
       "  29,\n",
       "  30],\n",
       " ObjectId('63bdcf966e703359486c3852'): [],\n",
       " ObjectId('63bda30c6e703359486c3851'): [24],\n",
       " ObjectId('63b72847955644d552edfd69'): [19, 19, 22, 23, 23, 23, 27]}"
      ]
     },
     "execution_count": 275,
     "metadata": {},
     "output_type": "execute_result"
    }
   ],
   "source": [
    "recording_dates_ord"
   ]
  },
  {
   "cell_type": "code",
   "execution_count": 276,
   "id": "88ecbd91-f618-4cc9-b063-a70ed6f68ded",
   "metadata": {},
   "outputs": [],
   "source": [
    "import datetime\n",
    "from datetime import timedelta\n",
    "\n",
    "recording_dates = { k:[] for k,v in recordings.items() }\n",
    "\n",
    "for experience_id, recordings_list in recordings.items():\n",
    "    for recording_id in recordings_list:\n",
    "        this_recording_date = dr[dr._id==recording_id].created.iloc[0]\n",
    "        recording_dates[experience_id].append(this_recording_date.date().strftime('%Y-%m-%d'))\n",
    "        \n",
    "        "
   ]
  },
  {
   "cell_type": "code",
   "execution_count": 277,
   "id": "c1ad341f-feb3-48cb-9847-ded48d96f57e",
   "metadata": {},
   "outputs": [
    {
     "data": {
      "text/plain": [
       "{ObjectId('63bda2fd6e703359486c3850'): ['2023-01-16',\n",
       "  '2023-01-16',\n",
       "  '2023-01-16',\n",
       "  '2023-01-17',\n",
       "  '2023-01-18',\n",
       "  '2023-01-18',\n",
       "  '2023-01-19',\n",
       "  '2023-01-23',\n",
       "  '2023-01-23',\n",
       "  '2023-01-23'],\n",
       " ObjectId('63b8837b955644d552edfd6c'): ['2023-01-20',\n",
       "  '2023-01-23',\n",
       "  '2023-01-24',\n",
       "  '2023-01-28',\n",
       "  '2023-01-28',\n",
       "  '2023-01-28',\n",
       "  '2023-01-28',\n",
       "  '2023-01-28',\n",
       "  '2023-01-28',\n",
       "  '2023-01-28',\n",
       "  '2023-01-28',\n",
       "  '2023-01-28',\n",
       "  '2023-01-29',\n",
       "  '2023-01-29',\n",
       "  '2023-01-29',\n",
       "  '2023-01-29',\n",
       "  '2023-01-29',\n",
       "  '2023-01-29',\n",
       "  '2023-01-29',\n",
       "  '2023-01-29',\n",
       "  '2023-01-29',\n",
       "  '2023-01-29',\n",
       "  '2023-01-29',\n",
       "  '2023-01-30'],\n",
       " ObjectId('63bdcf966e703359486c3852'): [],\n",
       " ObjectId('63bda30c6e703359486c3851'): ['2023-01-24'],\n",
       " ObjectId('63b72847955644d552edfd69'): ['2023-01-19',\n",
       "  '2023-01-19',\n",
       "  '2023-01-22',\n",
       "  '2023-01-23',\n",
       "  '2023-01-23',\n",
       "  '2023-01-23',\n",
       "  '2023-01-27']}"
      ]
     },
     "execution_count": 277,
     "metadata": {},
     "output_type": "execute_result"
    }
   ],
   "source": [
    "recording_dates"
   ]
  },
  {
   "cell_type": "code",
   "execution_count": 278,
   "id": "ce37a2df-81e9-4c18-b4f2-f99a287cb475",
   "metadata": {},
   "outputs": [
    {
     "data": {
      "image/png": "[encoded data removed]",
      "text/plain": [
       "<Figure size 1296x720 with 1 Axes>"
      ]
     },
     "metadata": {
      "needs_background": "light"
     },
     "output_type": "display_data"
    }
   ],
   "source": [
    "# import datetime\n",
    "# from datetime import timedelta\n",
    "\n",
    "# recording_dates = { k:[] for k,v in recordings.items() }\n",
    "\n",
    "# for experience_id, recordings_list in recordings.items():\n",
    "#     for recording_id in recordings_list:\n",
    "#         this_recording_date = dr[dr._id==recording_id].created.iloc[0]\n",
    "#         recording_dates[experience_id].append(this_recording_date.date().strftime('%Y-%m-%d'))\n",
    "        \n",
    "import numpy as np\n",
    "from collections import OrderedDict\n",
    "        \n",
    "default_colors = plt.rcParams['axes.prop_cycle'].by_key()['color']\n",
    "\n",
    "def hex_to_rgb(value):\n",
    "    value = value.lstrip('#')\n",
    "    lv = len(value)\n",
    "    return tuple(int(value[i:i + lv // 3], 16) for i in range(0, lv, lv // 3))\n",
    "\n",
    "\n",
    "def rgb_to_hex(rgb):\n",
    "    return '#%02x%02x%02x' % rgb\n",
    "\n",
    "idx=0\n",
    "fig,ax=make_big()\n",
    "# labels = [ (datetime.datetime(2023,1,15)+timedelta(days=i)).date().strftime('%Y-%m-%d') for i in range(15) ]\n",
    "\n",
    "\n",
    "# ax.set_xticklabels(labels)\n",
    "ax.set_title('Recordings of the KNOWN ACTIVATION experiences')\n",
    "plt.xlim(15,30)\n",
    "for k, v in OrderedDict(recording_dates_ord).items():\n",
    "    this_color = hex_to_rgb(default_colors[idx])\n",
    "    tc=this_color\n",
    "    idx+=1\n",
    "    this_color_withAlpha = (tc[0]/255,tc[1]/255,tc[2]/255,0.5)\n",
    "    ax.hist(v, label=str(k),fc=this_color_withAlpha)\n",
    "\n",
    "    plt.xticks(rotation=70)\n",
    "    plt.legend()\n",
    "    plt.xlabel('Day of January 2023')\n"
   ]
  },
  {
   "cell_type": "code",
   "execution_count": null,
   "id": "3dd5bedb-ea01-4907-ae78-7da9261842d2",
   "metadata": {},
   "outputs": [],
   "source": []
  },
  {
   "cell_type": "code",
   "execution_count": 281,
   "id": "5f0c22a3-7f2e-4d82-90ec-808b4ed18517",
   "metadata": {},
   "outputs": [],
   "source": [
    "import pymysql\n",
    "\n"
   ]
  },
  {
   "cell_type": "code",
   "execution_count": 283,
   "id": "ffbcf4b9-4cb4-4c59-ab22-14758cacc7d8",
   "metadata": {},
   "outputs": [
    {
     "ename": "OperationalError",
     "evalue": "(2003, \"Can't connect to MySQL server on '34.28.91.153' (timed out)\")",
     "output_type": "error",
     "traceback": [
      "\u001b[0;31m---------------------------------------------------------------------------\u001b[0m",
      "\u001b[0;31mtimeout\u001b[0m                                   Traceback (most recent call last)",
      "\u001b[0;32m~/anaconda3/lib/python3.9/site-packages/pymysql/connections.py\u001b[0m in \u001b[0;36mconnect\u001b[0;34m(self, sock)\u001b[0m\n\u001b[1;32m    612\u001b[0m                         \u001b[0;32mtry\u001b[0m\u001b[0;34m:\u001b[0m\u001b[0;34m\u001b[0m\u001b[0;34m\u001b[0m\u001b[0m\n\u001b[0;32m--> 613\u001b[0;31m                             sock = socket.create_connection(\n\u001b[0m\u001b[1;32m    614\u001b[0m                                 \u001b[0;34m(\u001b[0m\u001b[0mself\u001b[0m\u001b[0;34m.\u001b[0m\u001b[0mhost\u001b[0m\u001b[0;34m,\u001b[0m \u001b[0mself\u001b[0m\u001b[0;34m.\u001b[0m\u001b[0mport\u001b[0m\u001b[0;34m)\u001b[0m\u001b[0;34m,\u001b[0m \u001b[0mself\u001b[0m\u001b[0;34m.\u001b[0m\u001b[0mconnect_timeout\u001b[0m\u001b[0;34m,\u001b[0m \u001b[0;34m**\u001b[0m\u001b[0mkwargs\u001b[0m\u001b[0;34m\u001b[0m\u001b[0;34m\u001b[0m\u001b[0m\n",
      "\u001b[0;32m~/anaconda3/lib/python3.9/socket.py\u001b[0m in \u001b[0;36mcreate_connection\u001b[0;34m(address, timeout, source_address)\u001b[0m\n\u001b[1;32m    843\u001b[0m         \u001b[0;32mtry\u001b[0m\u001b[0;34m:\u001b[0m\u001b[0;34m\u001b[0m\u001b[0;34m\u001b[0m\u001b[0m\n\u001b[0;32m--> 844\u001b[0;31m             \u001b[0;32mraise\u001b[0m \u001b[0merr\u001b[0m\u001b[0;34m\u001b[0m\u001b[0;34m\u001b[0m\u001b[0m\n\u001b[0m\u001b[1;32m    845\u001b[0m         \u001b[0;32mfinally\u001b[0m\u001b[0;34m:\u001b[0m\u001b[0;34m\u001b[0m\u001b[0;34m\u001b[0m\u001b[0m\n",
      "\u001b[0;32m~/anaconda3/lib/python3.9/socket.py\u001b[0m in \u001b[0;36mcreate_connection\u001b[0;34m(address, timeout, source_address)\u001b[0m\n\u001b[1;32m    831\u001b[0m                 \u001b[0msock\u001b[0m\u001b[0;34m.\u001b[0m\u001b[0mbind\u001b[0m\u001b[0;34m(\u001b[0m\u001b[0msource_address\u001b[0m\u001b[0;34m)\u001b[0m\u001b[0;34m\u001b[0m\u001b[0;34m\u001b[0m\u001b[0m\n\u001b[0;32m--> 832\u001b[0;31m             \u001b[0msock\u001b[0m\u001b[0;34m.\u001b[0m\u001b[0mconnect\u001b[0m\u001b[0;34m(\u001b[0m\u001b[0msa\u001b[0m\u001b[0;34m)\u001b[0m\u001b[0;34m\u001b[0m\u001b[0;34m\u001b[0m\u001b[0m\n\u001b[0m\u001b[1;32m    833\u001b[0m             \u001b[0;31m# Break explicitly a reference cycle\u001b[0m\u001b[0;34m\u001b[0m\u001b[0;34m\u001b[0m\u001b[0m\n",
      "\u001b[0;31mtimeout\u001b[0m: timed out",
      "\nDuring handling of the above exception, another exception occurred:\n",
      "\u001b[0;31mOperationalError\u001b[0m                          Traceback (most recent call last)",
      "\u001b[0;32m/var/folders/n6/zc0mx_b953d7fmyh83yrflj40000gn/T/ipykernel_29209/3827938229.py\u001b[0m in \u001b[0;36m<module>\u001b[0;34m\u001b[0m\n\u001b[0;32m----> 1\u001b[0;31m conp = pymysql.connect(host='34.28.91.153',\n\u001b[0m\u001b[1;32m      2\u001b[0m                        \u001b[0muser\u001b[0m\u001b[0;34m=\u001b[0m\u001b[0;34m'root'\u001b[0m\u001b[0;34m,\u001b[0m\u001b[0;34m\u001b[0m\u001b[0;34m\u001b[0m\u001b[0m\n\u001b[1;32m      3\u001b[0m                        \u001b[0mport\u001b[0m\u001b[0;34m=\u001b[0m\u001b[0;36m3306\u001b[0m\u001b[0;34m,\u001b[0m\u001b[0;34m\u001b[0m\u001b[0;34m\u001b[0m\u001b[0m\n\u001b[1;32m      4\u001b[0m                        password='Y*G-PZ*zXjJM5fH.')\n",
      "\u001b[0;32m~/anaconda3/lib/python3.9/site-packages/pymysql/connections.py\u001b[0m in \u001b[0;36m__init__\u001b[0;34m(self, user, password, host, database, unix_socket, port, charset, sql_mode, read_default_file, conv, use_unicode, client_flag, cursorclass, init_command, connect_timeout, read_default_group, autocommit, local_infile, max_allowed_packet, defer_connect, auth_plugin_map, read_timeout, write_timeout, bind_address, binary_prefix, program_name, server_public_key, ssl, ssl_ca, ssl_cert, ssl_disabled, ssl_key, ssl_verify_cert, ssl_verify_identity, compress, named_pipe, passwd, db)\u001b[0m\n\u001b[1;32m    351\u001b[0m             \u001b[0mself\u001b[0m\u001b[0;34m.\u001b[0m\u001b[0m_sock\u001b[0m \u001b[0;34m=\u001b[0m \u001b[0;32mNone\u001b[0m\u001b[0;34m\u001b[0m\u001b[0;34m\u001b[0m\u001b[0m\n\u001b[1;32m    352\u001b[0m         \u001b[0;32melse\u001b[0m\u001b[0;34m:\u001b[0m\u001b[0;34m\u001b[0m\u001b[0;34m\u001b[0m\u001b[0m\n\u001b[0;32m--> 353\u001b[0;31m             \u001b[0mself\u001b[0m\u001b[0;34m.\u001b[0m\u001b[0mconnect\u001b[0m\u001b[0;34m(\u001b[0m\u001b[0;34m)\u001b[0m\u001b[0;34m\u001b[0m\u001b[0;34m\u001b[0m\u001b[0m\n\u001b[0m\u001b[1;32m    354\u001b[0m \u001b[0;34m\u001b[0m\u001b[0m\n\u001b[1;32m    355\u001b[0m     \u001b[0;32mdef\u001b[0m \u001b[0m__enter__\u001b[0m\u001b[0;34m(\u001b[0m\u001b[0mself\u001b[0m\u001b[0;34m)\u001b[0m\u001b[0;34m:\u001b[0m\u001b[0;34m\u001b[0m\u001b[0;34m\u001b[0m\u001b[0m\n",
      "\u001b[0;32m~/anaconda3/lib/python3.9/site-packages/pymysql/connections.py\u001b[0m in \u001b[0;36mconnect\u001b[0;34m(self, sock)\u001b[0m\n\u001b[1;32m    662\u001b[0m                 \u001b[0;32mif\u001b[0m \u001b[0mDEBUG\u001b[0m\u001b[0;34m:\u001b[0m\u001b[0;34m\u001b[0m\u001b[0;34m\u001b[0m\u001b[0m\n\u001b[1;32m    663\u001b[0m                     \u001b[0mprint\u001b[0m\u001b[0;34m(\u001b[0m\u001b[0mexc\u001b[0m\u001b[0;34m.\u001b[0m\u001b[0mtraceback\u001b[0m\u001b[0;34m)\u001b[0m\u001b[0;34m\u001b[0m\u001b[0;34m\u001b[0m\u001b[0m\n\u001b[0;32m--> 664\u001b[0;31m                 \u001b[0;32mraise\u001b[0m \u001b[0mexc\u001b[0m\u001b[0;34m\u001b[0m\u001b[0;34m\u001b[0m\u001b[0m\n\u001b[0m\u001b[1;32m    665\u001b[0m \u001b[0;34m\u001b[0m\u001b[0m\n\u001b[1;32m    666\u001b[0m             \u001b[0;31m# If e is neither DatabaseError or IOError, It's a bug.\u001b[0m\u001b[0;34m\u001b[0m\u001b[0;34m\u001b[0m\u001b[0m\n",
      "\u001b[0;31mOperationalError\u001b[0m: (2003, \"Can't connect to MySQL server on '34.28.91.153' (timed out)\")"
     ]
    }
   ],
   "source": [
    "conp = pymysql.connect(host='34.28.91.153',\n",
    "                       user='root',\n",
    "                       port=3306,\n",
    "                       password='Y*G-PZ*zXjJM5fH.')"
   ]
  },
  {
   "cell_type": "code",
   "execution_count": null,
   "id": "90a91842-32fd-42b2-8084-ede8d895bbe7",
   "metadata": {},
   "outputs": [],
   "source": []
  }
 ],
 "metadata": {
  "kernelspec": {
   "display_name": "Python 3 (ipykernel)",
   "language": "python",
   "name": "python3"
  },
  "language_info": {
   "codemirror_mode": {
    "name": "ipython",
    "version": 3
   },
   "file_extension": ".py",
   "mimetype": "text/x-python",
   "name": "python",
   "nbconvert_exporter": "python",
   "pygments_lexer": "ipython3",
   "version": "3.9.7"
  }
 },
 "nbformat": 4,
 "nbformat_minor": 5
}
