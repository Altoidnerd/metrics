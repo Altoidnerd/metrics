{
 "cells": [
  {
   "cell_type": "markdown",
   "id": "2014a4a5-816f-412e-bb0f-88a257e67c81",
   "metadata": {},
   "source": [
    "\n",
    "FLIC-6031\n",
    "\n",
    "Data\n",
    "\n",
    "Break down acquisitions and churn by web3 users (who have linked their wallet)\n",
    "\n",
    "Pinpointing the web3 users and figuring out what is the drop off of web3 users\n",
    "\n",
    "Are new web3 users dropping off? If so, why?\n",
    "\n",
    "Do they have a verified NFT? → they own an NFT that is also an experience\n",
    "\n",
    "What % of them have a verified NFT that drop off?\n",
    "\n",
    "If a web3 user stayed, what actions did they take after they connected their wallet?\n",
    "\n",
    "What actions did they take before the wallet connect?\n",
    "\n",
    "How did these users register?\n",
    "\n",
    "\n",
    "\n",
    "Behavioral drivers of web3 users\n",
    "\n",
    "if they have an nft do they create content?\n",
    "\n",
    "if they don’t have content, do they drop?\n",
    "\n",
    "If create a video, is there a higher chance that they stay within the application?\n",
    "\n",
    "Which nft collection they are interacting with\n",
    "\n",
    "3D vs 2d collectilbles data creation\n",
    "\n",
    "Focus on sandbox verifications?"
   ]
  },
  {
   "cell_type": "code",
   "execution_count": null,
   "id": "68c6b855-ea25-43a7-ab0b-8b254c81a6b7",
   "metadata": {},
   "outputs": [],
   "source": []
  }
 ],
 "metadata": {
  "kernelspec": {
   "display_name": "Python 3 (ipykernel)",
   "language": "python",
   "name": "python3"
  },
  "language_info": {
   "codemirror_mode": {
    "name": "ipython",
    "version": 3
   },
   "file_extension": ".py",
   "mimetype": "text/x-python",
   "name": "python",
   "nbconvert_exporter": "python",
   "pygments_lexer": "ipython3",
   "version": "3.9.7"
  }
 },
 "nbformat": 4,
 "nbformat_minor": 5
}
