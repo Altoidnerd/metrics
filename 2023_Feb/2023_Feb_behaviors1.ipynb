{
 "cells": [
  {
   "cell_type": "code",
   "execution_count": 3,
   "id": "99898007-f630-4d63-b107-8069796e3b1d",
   "metadata": {},
   "outputs": [],
   "source": [
    "from flickplay.get_connections import get_pymysql_con, get_alchemy_con\n",
    "from flickplay.mongo import get_mongo_db_obj\n",
    "from flickplay import query\n",
    "import pandas as pd\n",
    "import numpy as np"
   ]
  },
  {
   "cell_type": "code",
   "execution_count": 4,
   "id": "ed5ea74c-187f-4d2e-88b5-bcf5ff8bc63d",
   "metadata": {},
   "outputs": [
    {
     "name": "stdout",
     "output_type": "stream",
     "text": [
      "SELECT * FROM fpa.events WHERE event='video__seen'\n",
      "SELECT * FROM fpa.events WHERE event='homefeed__load_page'\n",
      "SELECT * FROM fpa.events WHERE event='video__comment_post'\n",
      "SELECT * FROM fpa.events WHERE event='video_finalize__post'\n"
     ]
    }
   ],
   "source": [
    "conp = get_pymysql_con()\n",
    "\n",
    "events = [\n",
    "    'video__seen',\n",
    "    'homefeed__load_page',\n",
    "    'video__comment_post',\n",
    "    'video_finalize__post']\n",
    "\n",
    "event_dfs = dict()\n",
    "queries = dict()\n",
    "\n",
    "for event in events:\n",
    "    query = f\"\"\"SELECT * FROM fpa.events WHERE event='{event}'\"\"\"\n",
    "    print(query)\n",
    "    queries[event] = query\n",
    "    df = pd.read_sql(query, conp)\n",
    "    event_dfs[event] = df"
   ]
  },
  {
   "cell_type": "code",
   "execution_count": null,
   "id": "abf0192d-7800-4245-bcbf-01f31b6af6f1",
   "metadata": {},
   "outputs": [],
   "source": []
  }
 ],
 "metadata": {
  "kernelspec": {
   "display_name": "Python 3 (ipykernel)",
   "language": "python",
   "name": "python3"
  },
  "language_info": {
   "codemirror_mode": {
    "name": "ipython",
    "version": 3
   },
   "file_extension": ".py",
   "mimetype": "text/x-python",
   "name": "python",
   "nbconvert_exporter": "python",
   "pygments_lexer": "ipython3",
   "version": "3.9.7"
  }
 },
 "nbformat": 4,
 "nbformat_minor": 5
}
