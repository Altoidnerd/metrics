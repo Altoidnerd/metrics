{
 "cells": [
  {
   "cell_type": "code",
   "execution_count": 1,
   "id": "d3b93a92-1563-4089-b3a6-41ce50cfc336",
   "metadata": {},
   "outputs": [],
   "source": [
    "from flickplay.get_connections import LocalConnector, GCPConnector\n",
    "from flickplay.mongo import get_mongo_db_obj\n",
    "from flickplay.utils import make_big, timer_func\n",
    "from flickplay.users import get_recordings, get_nfts, get_process_users\n",
    "from flickplay.get_connections import LocalConnector\n",
    "import pandas as pd\n",
    "import matplotlib.pyplot as plt"
   ]
  },
  {
   "cell_type": "markdown",
   "id": "29dc5539-3d25-4fd2-996b-92f70c1e711c",
   "metadata": {},
   "source": [
    "hi \n",
    "@Allen\n",
    "some other data points that wlill be useful are:\n",
    "\n",
    "1. number of people who put emails into their Fp profile\n",
    "2. new accounts created?\n",
    "3. wallets connected?\n",
    "4. conversion ?"
   ]
  },
  {
   "cell_type": "code",
   "execution_count": 2,
   "id": "4cd3d2fa-b26a-42cc-aa22-c260e5e8647b",
   "metadata": {},
   "outputs": [
    {
     "name": "stdout",
     "output_type": "stream",
     "text": [
      "63bdcf966e703359486c3852 7\n",
      "63b8837b955644d552edfd6c 7\n",
      "63bda2fd6e703359486c3850 27\n",
      "63bda30c6e703359486c3851 5\n",
      "63b72847955644d552edfd69 8\n"
     ]
    }
   ],
   "source": [
    "low_end = [\n",
    "    \"63bdcf966e703359486c3852\",\n",
    "    \"63b8837b955644d552edfd6c\",\n",
    "    \"63bda2fd6e703359486c3850\",\n",
    "    \"63bda30c6e703359486c3851\"]\n",
    "\n",
    "high_end = [\n",
    "    \"63b72847955644d552edfd69\"] # this eid tells us a user input an email?\n",
    "\n",
    "db = get_mongo_db_obj()\n",
    "unlocks = pd.DataFrame.from_records(db.unlockedexperiences.find())\n",
    "unlocks['eid'] = unlocks.experience.apply(lambda x: str(x))\n",
    "\n",
    "for eid in low_end+high_end:\n",
    "    print(eid, len(unlocks[unlocks.eid==eid]))\n",
    "    "
   ]
  },
  {
   "cell_type": "code",
   "execution_count": null,
   "id": "3a2c1714-5a5c-4839-8a7f-115fe3d87846",
   "metadata": {},
   "outputs": [
    {
     "name": "stdout",
     "output_type": "stream",
     "text": [
      "Getting NFTs from experiences\n"
     ]
    }
   ],
   "source": [
    "db = get_mongo_db_obj()\n",
    "\n",
    "nfts = get_nfts(db=db)"
   ]
  },
  {
   "cell_type": "code",
   "execution_count": null,
   "id": "c00f3792-eb24-43ac-b745-c96a8ece1d87",
   "metadata": {},
   "outputs": [],
   "source": [
    "users = get_process_users(nfts=nfts,db=db)"
   ]
  },
  {
   "cell_type": "code",
   "execution_count": null,
   "id": "ccafce5a-36ef-4a28-8264-b6caabd76c3a",
   "metadata": {},
   "outputs": [],
   "source": []
  },
  {
   "cell_type": "code",
   "execution_count": null,
   "id": "e53c431c-5ab0-4ae8-b470-dce4a523cde7",
   "metadata": {},
   "outputs": [],
   "source": []
  }
 ],
 "metadata": {
  "kernelspec": {
   "display_name": "Python 3 (ipykernel)",
   "language": "python",
   "name": "python3"
  },
  "language_info": {
   "codemirror_mode": {
    "name": "ipython",
    "version": 3
   },
   "file_extension": ".py",
   "mimetype": "text/x-python",
   "name": "python",
   "nbconvert_exporter": "python",
   "pygments_lexer": "ipython3",
   "version": "3.9.7"
  }
 },
 "nbformat": 4,
 "nbformat_minor": 5
}
